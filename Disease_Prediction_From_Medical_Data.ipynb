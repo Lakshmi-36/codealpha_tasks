{
  "nbformat": 4,
  "nbformat_minor": 0,
  "metadata": {
    "colab": {
      "provenance": [],
      "authorship_tag": "ABX9TyN/fOMzG3djxUjWj+eO3paC",
      "include_colab_link": true
    },
    "kernelspec": {
      "name": "python3",
      "display_name": "Python 3"
    },
    "language_info": {
      "name": "python"
    }
  },
  "cells": [
    {
      "cell_type": "markdown",
      "metadata": {
        "id": "view-in-github",
        "colab_type": "text"
      },
      "source": [
        "<a href=\"https://colab.research.google.com/github/Lakshmi-36/codealpha_tasks/blob/main/Disease_Prediction_From_Medical_Data.ipynb\" target=\"_parent\"><img src=\"https://colab.research.google.com/assets/colab-badge.svg\" alt=\"Open In Colab\"/></a>"
      ]
    },
    {
      "cell_type": "code",
      "source": [
        "import pandas as pd\n",
        "from sklearn.model_selection import train_test_split\n",
        "from sklearn.ensemble import RandomForestClassifier\n",
        "from sklearn.metrics import classification_report, confusion_matrix\n",
        "\n",
        "# Load the dataset\n",
        "data = pd.read_csv('heart.csv')\n",
        "\n",
        "# Display the first few rows of the dataset\n",
        "print(\"Dataset Preview:\")\n",
        "print(data.head())\n",
        "\n",
        "# Preprocessing: Assuming 'Target' is the target variable and the rest are features\n",
        "target_column = 'Target'  # Correct target column name\n",
        "X = data.drop(target_column, axis=1)  # Features\n",
        "y = data[target_column]               # Target variable\n",
        "\n",
        "# Encode categorical variables using one-hot encoding\n",
        "X = pd.get_dummies(X, columns=['ChestPain', 'Slope', 'Ca', 'Thal'], drop_first=True)\n",
        "\n",
        "# Split the dataset into training and testing sets\n",
        "X_train, X_test, y_train, y_test = train_test_split(X, y, test_size=0.2, random_state=42)\n",
        "\n",
        "# Initialize the Random Forest Classifier\n",
        "model = RandomForestClassifier(n_estimators=100, random_state=42)\n",
        "\n",
        "# Train the model\n",
        "model.fit(X_train, y_train)\n",
        "\n",
        "# Make predictions on the test set\n",
        "y_pred = model.predict(X_test)\n",
        "\n",
        "# Evaluate the model\n",
        "print(\"\\nConfusion Matrix:\")\n",
        "print(confusion_matrix(y_test, y_pred))\n",
        "\n",
        "print(\"\\nClassification Report:\")\n",
        "print(classification_report(y_test, y_pred))\n",
        "\n",
        "# Example: Predicting a new case (replace values with actual patient data)\n",
        "# Ensure the feature values match the one-hot encoded format\n",
        "new_case_data = {\n",
        "    'Age': 63, 'Sex': 1, 'RestBP': 145, 'Chol': 233, 'Fbs': 1, 'RestECG': 2, 'MaxHR': 150, 'ExAng': 0,\n",
        "    'Oldpeak': 2.3,\n",
        "    'ChestPain_nonanginal': 0, 'ChestPain_nontypical': 0, 'ChestPain_typical': 1,\n",
        "    'Slope_2': 0, 'Slope_3': 1,\n",
        "    'Ca_1': 0, 'Ca_2': 0, 'Ca_3': 0,\n",
        "    'Thal_normal': 0, 'Thal_reversable': 0\n",
        "}\n",
        "\n",
        "new_case = pd.DataFrame([new_case_data])\n",
        "\n",
        "# Get missing columns in test data\n",
        "missing_cols = set( X_train.columns ) - set( new_case.columns )\n",
        "for c in missing_cols:\n",
        "    new_case[c] = 0\n",
        "# Ensure the order of column is the same\n",
        "new_case = new_case[X_train.columns]\n",
        "\n",
        "prediction = model.predict(new_case)\n",
        "print(\"\\nPredicted Target for New Case:\", prediction)\n"
      ],
      "metadata": {
        "colab": {
          "base_uri": "https://localhost:8080/"
        },
        "id": "yqu1zJmUeU5q",
        "outputId": "997f4570-ffe8-4502-8efc-76b0d6f4bfed"
      },
      "execution_count": 6,
      "outputs": [
        {
          "output_type": "stream",
          "name": "stdout",
          "text": [
            "Dataset Preview:\n",
            "   Age  Sex     ChestPain  RestBP  Chol  Fbs  RestECG  MaxHR  ExAng  Oldpeak  \\\n",
            "0   63    1       typical     145   233    1        2    150      0      2.3   \n",
            "1   67    1  asymptomatic     160   286    0        2    108      1      1.5   \n",
            "2   67    1  asymptomatic     120   229    0        2    129      1      2.6   \n",
            "3   37    1    nonanginal     130   250    0        0    187      0      3.5   \n",
            "4   41    0    nontypical     130   204    0        2    172      0      1.4   \n",
            "\n",
            "   Slope  Ca        Thal  Target  \n",
            "0      3   0       fixed       0  \n",
            "1      2   3      normal       1  \n",
            "2      2   2  reversable       1  \n",
            "3      3   0      normal       0  \n",
            "4      1   0      normal       0  \n",
            "\n",
            "Confusion Matrix:\n",
            "[[25  4]\n",
            " [ 5 27]]\n",
            "\n",
            "Classification Report:\n",
            "              precision    recall  f1-score   support\n",
            "\n",
            "           0       0.83      0.86      0.85        29\n",
            "           1       0.87      0.84      0.86        32\n",
            "\n",
            "    accuracy                           0.85        61\n",
            "   macro avg       0.85      0.85      0.85        61\n",
            "weighted avg       0.85      0.85      0.85        61\n",
            "\n",
            "\n",
            "Predicted Target for New Case: [0]\n"
          ]
        }
      ]
    }
  ]
}